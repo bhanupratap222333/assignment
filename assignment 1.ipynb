{
 "cells": [
  {
   "cell_type": "code",
   "execution_count": null,
   "id": "f02aacd2-91d5-44e8-a755-5d118e4307c4",
   "metadata": {},
   "outputs": [],
   "source": [
    " 1. guido van rassum"
   ]
  },
  {
   "cell_type": "code",
   "execution_count": null,
   "id": "34ac58ca-6760-48e1-a421-8299d2e20765",
   "metadata": {},
   "outputs": [],
   "source": [
    "2. methodologies, data strueture degine, object oriented"
   ]
  },
  {
   "cell_type": "code",
   "execution_count": null,
   "id": "ecc151f5-09ab-4293-ab52-96a8d3bda4a3",
   "metadata": {},
   "outputs": [],
   "source": [
    "3. yes "
   ]
  },
  {
   "cell_type": "code",
   "execution_count": null,
   "id": "0c8d60ea-e7b2-4516-a8f4-ecf4e20ec7dc",
   "metadata": {},
   "outputs": [],
   "source": [
    "4.  .ph"
   ]
  },
  {
   "cell_type": "code",
   "execution_count": null,
   "id": "4702ee57-059f-4de4-b2a8-87804c3b0188",
   "metadata": {},
   "outputs": [],
   "source": [
    "5. yes both"
   ]
  },
  {
   "cell_type": "code",
   "execution_count": null,
   "id": "b68b54f7-4bd2-4f2f-a338-244d392bb60a",
   "metadata": {},
   "outputs": [],
   "source": [
    "6. if (condition):\n",
    "       #statement\n",
    "       #statement\n",
    "   else:\n",
    "      #statement\n",
    "      #statement\n",
    "    "
   ]
  },
  {
   "cell_type": "code",
   "execution_count": null,
   "id": "50c6b8d0-e8ce-45e6-aedb-5bac2f8bea1e",
   "metadata": {},
   "outputs": [],
   "source": [
    "7. start in \"#\" single line comments\n",
    "   ex- #this is first assignment"
   ]
  },
  {
   "cell_type": "code",
   "execution_count": null,
   "id": "36160431-3c7e-499f-a3cb-9bbc594af742",
   "metadata": {},
   "outputs": [],
   "source": [
    "8.  sys.version"
   ]
  },
  {
   "cell_type": "code",
   "execution_count": null,
   "id": "326ff81f-934e-4f2d-8e8c-8be1a3180b19",
   "metadata": {},
   "outputs": [],
   "source": [
    "9. lambda"
   ]
  },
  {
   "cell_type": "code",
   "execution_count": null,
   "id": "09c60dde-1af0-434d-81c6-0d5e0a4284eb",
   "metadata": {},
   "outputs": [],
   "source": [
    "10.  pip is peakage manegar"
   ]
  },
  {
   "cell_type": "code",
   "execution_count": null,
   "id": "203bf834-3aaf-48f7-bd8b-94f3b854672c",
   "metadata": {},
   "outputs": [],
   "source": [
    "11. chr()\n",
    "    bool()\n",
    "    complex()\n",
    "    dict()\n",
    "    "
   ]
  },
  {
   "cell_type": "code",
   "execution_count": null,
   "id": "85e480bc-3614-4c75-ba88-95ccd6768c2a",
   "metadata": {},
   "outputs": [],
   "source": [
    "12.  79"
   ]
  },
  {
   "cell_type": "code",
   "execution_count": null,
   "id": "5a768156-8955-4408-bd96-242d71214686",
   "metadata": {},
   "outputs": [],
   "source": [
    "13.  easy integration\n",
    "     obeject oriented programming\n",
    "    work with less code\n",
    "    produtivity\n",
    "    safty and security"
   ]
  },
  {
   "cell_type": "code",
   "execution_count": null,
   "id": "fe58e525-5b56-44bd-8fcc-c0d800dcbc3e",
   "metadata": {},
   "outputs": [],
   "source": [
    "\n",
    "14.  private heap space"
   ]
  },
  {
   "cell_type": "code",
   "execution_count": null,
   "id": "55075ce5-de60-49b4-a301-d3d01ce74618",
   "metadata": {},
   "outputs": [],
   "source": [
    "15. select proparties once in the proparties meanu click on the advance system setting opstion in the next windows select the advance tab select enviroment varables"
   ]
  },
  {
   "cell_type": "code",
   "execution_count": null,
   "id": "b5015b06-5ff7-4160-b037-bb3775e57264",
   "metadata": {},
   "outputs": [],
   "source": [
    "16. indentation is very important concept of python beacuse without inditation the python code will be error"
   ]
  }
 ],
 "metadata": {
  "kernelspec": {
   "display_name": "Python 3 (ipykernel)",
   "language": "python",
   "name": "python3"
  },
  "language_info": {
   "codemirror_mode": {
    "name": "ipython",
    "version": 3
   },
   "file_extension": ".py",
   "mimetype": "text/x-python",
   "name": "python",
   "nbconvert_exporter": "python",
   "pygments_lexer": "ipython3",
   "version": "3.10.6"
  }
 },
 "nbformat": 4,
 "nbformat_minor": 5
}
