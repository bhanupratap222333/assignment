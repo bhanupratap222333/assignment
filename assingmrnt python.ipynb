{
 "cells": [
  {
   "attachments": {},
   "cell_type": "markdown",
   "metadata": {},
   "source": [
    "1. Write a program to compute 1/2+2/3+3/4+...+n/n+1 with a given n input by console (n>0).\n"
   ]
  },
  {
   "cell_type": "code",
   "execution_count": 12,
   "metadata": {},
   "outputs": [
    {
     "name": "stdout",
     "output_type": "stream",
     "text": [
      "1.1666666666666665\n"
     ]
    }
   ],
   "source": [
    "\n",
    "\n",
    "n=int(input(\"enter a number\"))\n",
    "sum=0\n",
    "for i in range(1,n+1):\n",
    "    sum+= i/(i+1)\n",
    "print(sum)"
   ]
  },
  {
   "attachments": {},
   "cell_type": "markdown",
   "metadata": {},
   "source": [
    "2.  Define a class named Circle which can be constructed by a radius. The Circle class has a method which can\n",
    "compute the area"
   ]
  },
  {
   "cell_type": "code",
   "execution_count": 5,
   "metadata": {},
   "outputs": [
    {
     "name": "stdout",
     "output_type": "stream",
     "text": [
      "12.56636\n"
     ]
    }
   ],
   "source": [
    "class circle:\n",
    "    def __init__(self , radius):\n",
    "        self.r = radius\n",
    "        \n",
    "    def area(self):\n",
    "        return 3.14159* self.r ** 2  \n",
    "c=circle(2)\n",
    "print(c.area())      \n",
    "        \n",
    "        "
   ]
  },
  {
   "attachments": {},
   "cell_type": "markdown",
   "metadata": {},
   "source": [
    "3.  Write a program which accepts a string as input to print \"Yes\" if the string is \"yes\" or \"YES\" or \"Yes\",\n",
    "otherwise print \"No\""
   ]
  },
  {
   "cell_type": "code",
   "execution_count": 1,
   "metadata": {},
   "outputs": [
    {
     "name": "stdout",
     "output_type": "stream",
     "text": [
      "yes\n"
     ]
    }
   ],
   "source": [
    "#3\n",
    "n=str(input(\"entar a string\"))\n",
    "if n==\"yes\" or n==\"Yes\" or n== \"YES\":\n",
    "    print(\"yes\")\n",
    "else:\n",
    "    print(\"no\")"
   ]
  },
  {
   "attachments": {},
   "cell_type": "markdown",
   "metadata": {},
   "source": [
    "4.  Define a function that can accept two strings as input and concatenate them and then print it in the\n",
    "console"
   ]
  },
  {
   "cell_type": "code",
   "execution_count": 1,
   "metadata": {},
   "outputs": [],
   "source": [
    "#4\n",
    "def bhanu(a,b):\n",
    "    if type(a)==str or type(b)==str:\n",
    "        print(a+b)\n",
    "    else:\n",
    "        print(\"plese enter string \")\n",
    "    "
   ]
  },
  {
   "cell_type": "code",
   "execution_count": 2,
   "metadata": {},
   "outputs": [
    {
     "name": "stdout",
     "output_type": "stream",
     "text": [
      "plese enter string \n"
     ]
    }
   ],
   "source": [
    "bhanu(2,3)"
   ]
  },
  {
   "attachments": {},
   "cell_type": "markdown",
   "metadata": {},
   "source": [
    "5.  Define a function that can convert an integer into a string and print it in the console"
   ]
  },
  {
   "cell_type": "code",
   "execution_count": 115,
   "metadata": {},
   "outputs": [],
   "source": [
    "#5\n",
    "def convert(a):\n",
    "    return str(a)\n"
   ]
  },
  {
   "cell_type": "code",
   "execution_count": 116,
   "metadata": {},
   "outputs": [
    {
     "data": {
      "text/plain": [
       "'123'"
      ]
     },
     "execution_count": 116,
     "metadata": {},
     "output_type": "execute_result"
    }
   ],
   "source": [
    "convert(123)"
   ]
  },
  {
   "attachments": {},
   "cell_type": "markdown",
   "metadata": {},
   "source": [
    "6.  Define a function which can compute the sum of two numbers."
   ]
  },
  {
   "cell_type": "code",
   "execution_count": 1,
   "metadata": {},
   "outputs": [],
   "source": [
    "#6\n",
    "def sum(a,b):\n",
    "    if type(a)==int or type(b)==int:\n",
    "        print(a+b)\n",
    "    elif type(a)==float or type(b)==float:\n",
    "        print(a+b)\n",
    "    else:\n",
    "        print(\"ooo bhai kya kar raha tu digit dal\")\n",
    "    \n",
    "\n",
    "\n"
   ]
  },
  {
   "cell_type": "code",
   "execution_count": 3,
   "metadata": {},
   "outputs": [
    {
     "name": "stdout",
     "output_type": "stream",
     "text": [
      "5\n"
     ]
    }
   ],
   "source": [
    "sum (2,3)"
   ]
  },
  {
   "attachments": {},
   "cell_type": "markdown",
   "metadata": {},
   "source": [
    "7. Write a program that computes the value of a+aa+aaa+aaaa with a given digit as the value of a.\n",
    "Suppose the following input is supplied to the program:\n",
    "9\n",
    "Then, the output should be:\n",
    "11106"
   ]
  },
  {
   "cell_type": "code",
   "execution_count": 132,
   "metadata": {},
   "outputs": [
    {
     "name": "stdout",
     "output_type": "stream",
     "text": [
      "8 + 88 + 888 + 8888 = 11106\n"
     ]
    }
   ],
   "source": [
    "#7\n",
    "value = input(\"Enter value: \")\n",
    "\n",
    "n1 = value * 1\n",
    "n2 = value * 2\n",
    "n3 = value * 3\n",
    "n4 = value * 4\n",
    "\n",
    "print(int(n1),\"+\",int(n2),\"+\",int(n3),\"+\",int(n4),\"=\",total)"
   ]
  },
  {
   "attachments": {},
   "cell_type": "markdown",
   "metadata": {},
   "source": [
    "8. Write a program that accepts a sentence and calculate the number of uppercase letters and lowercase\n",
    "letters.\n",
    "Suppose the following input is supplied to the program:\n",
    "Hello world!\n",
    "Then, the output should be:\n",
    "UPPER CASE 1\n",
    "LOWER CASE 9"
   ]
  },
  {
   "cell_type": "code",
   "execution_count": 143,
   "metadata": {},
   "outputs": [
    {
     "name": "stdout",
     "output_type": "stream",
     "text": [
      "TOTAL UPPER CASE  5\n",
      "TOTAL LOWER CASE  5\n"
     ]
    }
   ],
   "source": [
    "#8\n",
    "a= input(\"enter a sentance \")\n",
    "upper_count= 0\n",
    "lower_count= 0\n",
    "for i in a:\n",
    "    if i.isupper():\n",
    "        upper_count += 1\n",
    "    elif i.islower():\n",
    "        lower_count += 1\n",
    "print(\"TOTAL UPPER CASE \",upper_count)\n",
    "print(\"TOTAL LOWER CASE \",lower_count)"
   ]
  },
  {
   "attachments": {},
   "cell_type": "markdown",
   "metadata": {},
   "source": [
    "9. With a given integral number n, write a program to generate a dictionary that contains (i, i*i) such that is\n",
    "an integral number between 1 and n (both included). and then the program should print the dictionary.\n",
    "Suppose the following input is supplied to the program:\n",
    "8\n",
    "Then, the output should be:\n",
    "{1: 1, 2: 4, 3: 9, 4: 16, 5: 25, 6: 36, 7: 49, 8: 64}"
   ]
  },
  {
   "cell_type": "code",
   "execution_count": 145,
   "metadata": {},
   "outputs": [
    {
     "name": "stdout",
     "output_type": "stream",
     "text": [
      "{1: 1, 2: 4, 3: 9, 4: 16, 5: 25, 6: 36, 7: 49, 8: 64}\n"
     ]
    }
   ],
   "source": [
    "#9\n",
    "n= int(input(\"enter number \"))\n",
    "b= {}\n",
    "for i in range (1,n+1):\n",
    "    b[i] = i*i\n",
    "print(b)"
   ]
  },
  {
   "attachments": {},
   "cell_type": "markdown",
   "metadata": {},
   "source": [
    "10. Write a program that accepts sequence of lines as input and prints the lines after making all characters in\n",
    "the sentence capitalized.\n",
    "Suppose the following input is supplied to the program:\n",
    "Hello world\n",
    "Practice makes perfect\n",
    "Then, the output should be:\n",
    "HELLO WORLD\n",
    "PRACTICE MAKES PERFECT"
   ]
  },
  {
   "cell_type": "code",
   "execution_count": 8,
   "metadata": {},
   "outputs": [
    {
     "name": "stdout",
     "output_type": "stream",
     "text": [
      "HELLO WORLD\n",
      "PRACTICE MAKES PERFECT\n"
     ]
    }
   ],
   "source": [
    "A= []\n",
    "while True:\n",
    "    line=input()\n",
    "    if line:\n",
    "        A.append(line.upper())\n",
    "    else:\n",
    "        break\n",
    "for line in A:\n",
    "    print(line)"
   ]
  }
 ],
 "metadata": {
  "kernelspec": {
   "display_name": "Python 3.10.10 64-bit (microsoft store)",
   "language": "python",
   "name": "python3"
  },
  "language_info": {
   "codemirror_mode": {
    "name": "ipython",
    "version": 3
   },
   "file_extension": ".py",
   "mimetype": "text/x-python",
   "name": "python",
   "nbconvert_exporter": "python",
   "pygments_lexer": "ipython3",
   "version": "3.10.11"
  },
  "orig_nbformat": 4,
  "vscode": {
   "interpreter": {
    "hash": "f37fb9d4dc6058bae0fc1303171015c0fedb840be72e4272c39b1875ccb9ac8b"
   }
  }
 },
 "nbformat": 4,
 "nbformat_minor": 2
}
