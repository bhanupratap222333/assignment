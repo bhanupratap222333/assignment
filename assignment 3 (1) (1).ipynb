{
 "cells": [
  {
   "cell_type": "code",
   "execution_count": 2,
   "id": "a08f1a1f-dee3-4a23-9c45-4703972460bd",
   "metadata": {},
   "outputs": [
    {
     "name": "stdout",
     "output_type": "stream",
     "text": [
      "1\n",
      "2\n",
      "3\n",
      "4\n",
      "5\n",
      "6\n",
      "7\n",
      "1\n",
      "2\n",
      "3\n",
      "4\n",
      "5\n",
      "6\n",
      "7\n",
      "8\n",
      "9\n",
      "10\n"
     ]
    }
   ],
   "source": [
    "#for loop\n",
    "'''The initialization is done only once, and it is never repeated\n",
    "Hence, it executes once all statements in loop have been executed.\n",
    "not mentioned in the 'for' loop, then the loop iterates infinite number of times'''\n",
    "l=[1,2,3,4,5,6,7]\n",
    "for i in l:\n",
    "    print(i)\n",
    "\n",
    "\n",
    "#while loop\n",
    "'''condition is not mentioned in the 'while' loop, it results in a compilation error.\n",
    "only when the number of iterations isn’t known.\n",
    "iteration statement can be written within any point inside the loop.'''\n",
    "i=1\n",
    "while i<=10:\n",
    "    print(i)\n",
    "    i=i+1"
   ]
  },
  {
   "cell_type": "code",
   "execution_count": 3,
   "id": "11e0fbbe-00da-41a0-8a30-1e1f75e7df1b",
   "metadata": {},
   "outputs": [
    {
     "name": "stdin",
     "output_type": "stream",
     "text": [
      "entar a number 5\n"
     ]
    },
    {
     "name": "stdout",
     "output_type": "stream",
     "text": [
      "sum is= 15\n",
      "product is =  120\n"
     ]
    }
   ],
   "source": [
    "# 2 soluction\n",
    "n=int(input(\"entar a number\"))\n",
    "i=1\n",
    "s=0\n",
    "a=1\n",
    "while i<=n:\n",
    "    s=s+i\n",
    "    a=a*i\n",
    "    i=i+1\n",
    "print(\"sum is=\",s)\n",
    "print(\"product is = \",a)\n"
   ]
  },
  {
   "cell_type": "code",
   "execution_count": 4,
   "id": "df8e8806-d017-41fa-8a02-021635b70cb8",
   "metadata": {},
   "outputs": [
    {
     "name": "stdin",
     "output_type": "stream",
     "text": [
      "Please enter the number:  10\n"
     ]
    },
    {
     "name": "stdout",
     "output_type": "stream",
     "text": [
      "sum is= 55\n",
      "produt is = 3628800\n"
     ]
    }
   ],
   "source": [
    "# 2 soluction\n",
    "\n",
    "n = int(input(\"Please enter the number: \"))\n",
    "\n",
    "s = 0\n",
    "a=1\n",
    "for i in range(1,n+ 1):\n",
    "    s = s +i\n",
    "    a=a*i\n",
    "print(\"sum is=\",s)\n",
    "print(\"produt is =\",a)\n"
   ]
  },
  {
   "cell_type": "code",
   "execution_count": 2,
   "id": "15e8baf7-a041-4372-8b61-06ce7ae84034",
   "metadata": {},
   "outputs": [
    {
     "name": "stdin",
     "output_type": "stream",
     "text": [
      "entar electricity unit 80\n"
     ]
    },
    {
     "name": "stdout",
     "output_type": "stream",
     "text": [
      "par unit charge in 4.5\n",
      " your electricity biil is = 360.0 rs\n"
     ]
    }
   ],
   "source": [
    "#3. soluction\n",
    "n=int(input(\"entar electricity unit\"))\n",
    "if n<100:\n",
    "    a=n*4.5\n",
    "    print(\"par unit charge in 4.5\\n your electricity biil is =\",a ,\"rs\")\n",
    "elif n<200:\n",
    "    b=n*6\n",
    "    print(\"par unit charge in 6\\nyour electricity biil is = \",b,\"rs\")\n",
    "elif n<300:\n",
    "    c=n*10\n",
    "    print(\"par unit charge in 10\\nyour electricity biil is = \",c ,\"rs\")\n",
    "elif n>300:\n",
    "    d=n*20\n",
    "    print(\"par unit charge in 20\\nyour electricity biil is = \",d ,\"rs\")"
   ]
  },
  {
   "cell_type": "code",
   "execution_count": 31,
   "id": "57951411-9505-4e01-872c-75c53368008a",
   "metadata": {},
   "outputs": [
    {
     "name": "stdout",
     "output_type": "stream",
     "text": [
      "[8, 64, 125, 216, 512, 1000, 1728, 2744, 3375, 4096, 5832, 8000, 10648, 13824, 15625, 17576, 21952, 27000, 32768, 39304, 42875, 46656, 54872, 64000, 74088, 85184, 91125, 97336, 110592, 125000, 140608, 157464, 166375, 175616, 195112, 216000, 238328, 262144, 274625, 287496, 314432, 343000, 373248, 405224, 421875, 438976, 474552, 512000, 551368, 592704, 614125, 636056, 681472, 729000, 778688, 830584, 857375, 884736, 941192, 1000000]\n"
     ]
    }
   ],
   "source": [
    "#4. soluction\n",
    "a=[]\n",
    "for i in range(1,101):\n",
    "    a.append(i**3)\n",
    "l=[]\n",
    "for i in a :\n",
    "    if i%4==0 or i%5==0:\n",
    "        l.append(i)\n",
    "print(l)"
   ]
  },
  {
   "cell_type": "code",
   "execution_count": 40,
   "id": "825f47a1-e776-4820-9fa4-54c3e41eaad8",
   "metadata": {},
   "outputs": [
    {
     "name": "stdout",
     "output_type": "stream",
     "text": [
      "11\n"
     ]
    }
   ],
   "source": [
    "a=list(\"I want to become a data scientist\")\n",
    "def vowel(x):\n",
    "    v=('a','e','i','o','u')\n",
    "    return x in v\n",
    "\n",
    "b=list(filter(vowel,a))\n",
    "print(len(b))\n",
    "    "
   ]
  },
  {
   "cell_type": "code",
   "execution_count": null,
   "id": "5416a399-0cac-440b-a916-3eaf6d907a27",
   "metadata": {},
   "outputs": [],
   "source": []
  }
 ],
 "metadata": {
  "kernelspec": {
   "display_name": "Python 3 (ipykernel)",
   "language": "python",
   "name": "python3"
  },
  "language_info": {
   "codemirror_mode": {
    "name": "ipython",
    "version": 3
   },
   "file_extension": ".py",
   "mimetype": "text/x-python",
   "name": "python",
   "nbconvert_exporter": "python",
   "pygments_lexer": "ipython3",
   "version": "3.10.6"
  }
 },
 "nbformat": 4,
 "nbformat_minor": 5
}
