{
 "cells": [
  {
   "cell_type": "code",
   "execution_count": null,
   "id": "3da8596b-d38c-44b7-9a13-349cae3f3da9",
   "metadata": {},
   "outputs": [],
   "source": []
  },
  {
   "cell_type": "code",
   "execution_count": 5,
   "id": "d62da9d2-aa1c-4a77-9ddb-ed218399a18f",
   "metadata": {},
   "outputs": [
    {
     "name": "stdin",
     "output_type": "stream",
     "text": [
      "entar a numbar  75\n"
     ]
    },
    {
     "name": "stdout",
     "output_type": "stream",
     "text": [
      "you will be grade C batch\n"
     ]
    }
   ],
   "source": [
    "# 1. soluction\n",
    "marks = int(input(\"entar a numbar\"))\n",
    "if marks>90 :\n",
    "    print (\"you will be grade A batch\" )\n",
    "elif marks>80 and marks<=90:\n",
    "    print(\"you will be grade B batch\")\n",
    "elif marks>=60 and marks<=80:\n",
    "    print(\"you will be grade C batch\")\n",
    "else:\n",
    "    print(\"you will be grage D batch\")"
   ]
  },
  {
   "cell_type": "code",
   "execution_count": 37,
   "id": "591a95b7-c42d-4422-9118-70f6d5ad0efb",
   "metadata": {},
   "outputs": [
    {
     "name": "stdin",
     "output_type": "stream",
     "text": [
      "entar cost prices Rs 762354\n"
     ]
    },
    {
     "name": "stdout",
     "output_type": "stream",
     "text": [
      "tax in 15%\n",
      " tax prices this amount= 114353.1 Rs\n"
     ]
    }
   ],
   "source": [
    "# 2. soluction \n",
    "tax=int(input(\"entar cost prices Rs\"))\n",
    "if tax >=100000:\n",
    "    a= tax*15/100\n",
    "    print(\"tax in 15%\\n tax prices this amount=\", a,\"Rs\")\n",
    "elif tax >50000 and tax<100000:\n",
    "    b= tax*10/100\n",
    "    print(\"tax in 10%\\n tax prices this amount=\",b,\"Rs\")\n",
    "else:\n",
    "    c= tax*5/100\n",
    "    print(\"tax in 5 %\\n tax prices this amount=\",c,\"Rs\")"
   ]
  },
  {
   "cell_type": "code",
   "execution_count": 2,
   "id": "a66d50f6-ac53-4b6a-9718-70940da3d027",
   "metadata": {},
   "outputs": [
    {
     "name": "stdout",
     "output_type": "stream",
     "text": [
      "chosses the city and find monuments\n",
      " city name- DELHI, AGRA, JAIPUR\n"
     ]
    },
    {
     "name": "stdin",
     "output_type": "stream",
     "text": [
      "entar a city name following chart delhui\n"
     ]
    },
    {
     "ename": "ValueError",
     "evalue": "invalid literal for int() with base 10: 'delhui'",
     "output_type": "error",
     "traceback": [
      "\u001b[0;31m---------------------------------------------------------------------------\u001b[0m",
      "\u001b[0;31mValueError\u001b[0m                                Traceback (most recent call last)",
      "Cell \u001b[0;32mIn [2], line 3\u001b[0m\n\u001b[1;32m      1\u001b[0m \u001b[38;5;66;03m#3 soluction\u001b[39;00m\n\u001b[1;32m      2\u001b[0m \u001b[38;5;28mprint\u001b[39m(\u001b[38;5;124m\"\u001b[39m\u001b[38;5;124mchosses the city and find monuments\u001b[39m\u001b[38;5;130;01m\\n\u001b[39;00m\u001b[38;5;124m city name- DELHI, AGRA, JAIPUR\u001b[39m\u001b[38;5;124m\"\u001b[39m)\n\u001b[0;32m----> 3\u001b[0m \u001b[38;5;28;43mint\u001b[39;49m\u001b[43m(\u001b[49m\u001b[38;5;28;43minput\u001b[39;49m\u001b[43m(\u001b[49m\u001b[38;5;124;43m\"\u001b[39;49m\u001b[38;5;124;43mentar a city name following chart\u001b[39;49m\u001b[38;5;124;43m\"\u001b[39;49m\u001b[43m)\u001b[49m\u001b[43m)\u001b[49m\n\u001b[1;32m      4\u001b[0m l1\u001b[38;5;241m=\u001b[39m[\u001b[38;5;124m\"\u001b[39m\u001b[38;5;124mdelhi\u001b[39m\u001b[38;5;124m\"\u001b[39m,\u001b[38;5;124m\"\u001b[39m\u001b[38;5;124magra\u001b[39m\u001b[38;5;124m\"\u001b[39m,\u001b[38;5;124m\"\u001b[39m\u001b[38;5;124mjaipur\u001b[39m\u001b[38;5;124m\"\u001b[39m]\n\u001b[1;32m      5\u001b[0m \u001b[38;5;28;01mfor\u001b[39;00m i \u001b[38;5;129;01min\u001b[39;00m l1:\n",
      "\u001b[0;31mValueError\u001b[0m: invalid literal for int() with base 10: 'delhui'"
     ]
    }
   ],
   "source": [
    "#3 soluction\n",
    "print(\"chosses the city and find monuments\\n city name- DELHI, AGRA, JAIPUR\")\n",
    "int(input(\"entar a city name following chart\"))\n",
    "l1=[\"delhi\",\"agra\",\"jaipur\"]\n",
    "for i in l1:\n",
    "    if i== \"delhi\":\n",
    "        print(\"red fort\")\n",
    "    elif i== \"agra\":\n",
    "        print(\"taj mahal\")\n",
    "    elif i== \"jaipur\":\n",
    "        print(\"jai mahal\")"
   ]
  },
  {
   "cell_type": "code",
   "execution_count": null,
   "id": "03964bcb-2184-4929-af31-3e0cd852bad3",
   "metadata": {},
   "outputs": [],
   "source": []
  },
  {
   "cell_type": "code",
   "execution_count": 4,
   "id": "2e5558ce-1697-4f5c-b038-3791c1d08485",
   "metadata": {},
   "outputs": [
    {
     "name": "stdin",
     "output_type": "stream",
     "text": [
      "entar a number 21\n"
     ]
    },
    {
     "name": "stdout",
     "output_type": "stream",
     "text": [
      "divided bye 3\n"
     ]
    }
   ],
   "source": [
    "# 4 soluction\n",
    "n=int(input(\"entar a number\"))\n",
    "if n%3==0:\n",
    "    print(\"divided bye 3\")\n",
    "else:\n",
    "    print(\"not divided by 3\")\n"
   ]
  },
  {
   "cell_type": "code",
   "execution_count": 9,
   "id": "42241884-52f0-466f-801f-feb31fff4098",
   "metadata": {},
   "outputs": [
    {
     "name": "stdin",
     "output_type": "stream",
     "text": [
      "entar a number 6\n"
     ]
    },
    {
     "name": "stdout",
     "output_type": "stream",
     "text": [
      "1\n",
      "3\n",
      "5\n"
     ]
    }
   ],
   "source": [
    "# 5 soluction\n",
    "'''Python While Loop is used to execute a block of statements\n",
    "repeatedly until a given condition is satisfied. And when\n",
    "the condition becomes false, the line immediately after the loop in the program is executed.'''\n",
    "n=int(input(\"entar a number\"))\n",
    "i=1\n",
    "while i<=n:\n",
    "    print(i)\n",
    "    i=i+2\n",
    "\n"
   ]
  },
  {
   "cell_type": "code",
   "execution_count": 10,
   "id": "5c9ecc84-bc7c-4726-889b-1b34c419a357",
   "metadata": {},
   "outputs": [
    {
     "name": "stdin",
     "output_type": "stream",
     "text": [
      "inter a number 7\n"
     ]
    },
    {
     "name": "stdout",
     "output_type": "stream",
     "text": [
      "sum of n number 28\n"
     ]
    }
   ],
   "source": [
    "# 6 soluction\n",
    "#sum n netural number\n",
    "n=int(input(\"inter a number\"))\n",
    "i=1\n",
    "s=0\n",
    "while i<=n:\n",
    "    s=s+i\n",
    "    i+=1 \n",
    "print(\"sum of n number\",s)\n",
    "#"
   ]
  },
  {
   "cell_type": "code",
   "execution_count": null,
   "id": "59ec6881-b166-4d56-9146-91f9c7110e2e",
   "metadata": {},
   "outputs": [],
   "source": [
    "# 7 soluction\n",
    "i=10\n",
    "while i10:\n",
    "    print(i)\n",
    "i=i-1"
   ]
  },
  {
   "cell_type": "code",
   "execution_count": null,
   "id": "8ebd432e-b167-4783-9452-80ba4262d2f5",
   "metadata": {},
   "outputs": [],
   "source": []
  }
 ],
 "metadata": {
  "kernelspec": {
   "display_name": "Python 3 (ipykernel)",
   "language": "python",
   "name": "python3"
  },
  "language_info": {
   "codemirror_mode": {
    "name": "ipython",
    "version": 3
   },
   "file_extension": ".py",
   "mimetype": "text/x-python",
   "name": "python",
   "nbconvert_exporter": "python",
   "pygments_lexer": "ipython3",
   "version": "3.10.6"
  }
 },
 "nbformat": 4,
 "nbformat_minor": 5
}
